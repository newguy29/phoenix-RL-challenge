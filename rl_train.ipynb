{
 "cells": [
  {
   "cell_type": "code",
   "execution_count": null,
   "metadata": {
    "collapsed": true
   },
   "outputs": [],
   "source": [
    "!pip install gym\n",
    "!pip install box2d-py\n",
    "!pip install stable-baselines3[extra]"
   ]
  },
  {
   "cell_type": "code",
   "execution_count": 1,
   "outputs": [],
   "source": [
    "import gym\n",
    "import model_definitions\n",
    "from stable_baselines3.common.callbacks import EvalCallback\n",
    "import os"
   ],
   "metadata": {
    "collapsed": false,
    "pycharm": {
     "name": "#%%\n"
    }
   }
  },
  {
   "cell_type": "code",
   "execution_count": 2,
   "outputs": [],
   "source": [
    "# Die Idee wäre jetzt, nur diesen Teil und den model_definitions Aufruf anpassen zu müssen\n",
    "training_config = {}\n",
    "training_config[\"makedir\"] = True\n",
    "training_config[\"continuous\"] = True\n",
    "training_config[\"load\"] = True\n",
    "training_config[\"store\"] = True\n",
    "training_config[\"n_steps\"] = 100000\n",
    "training_config[\"eval\"] = True\n",
    "training_config[\"save_best\"]=True\n",
    "training_config[\"eval_freq\"] = 10000"
   ],
   "metadata": {
    "collapsed": false,
    "pycharm": {
     "name": "#%%\n"
    }
   }
  },
  {
   "cell_type": "code",
   "execution_count": 3,
   "outputs": [],
   "source": [
    "env_id = \"LunarLanderContinuous-v2\" if training_config[\"continuous\"] else \"LunarLander-v2\"\n",
    "env = gym.make(env_id)\n",
    "# Es ist auch möglich, den normalen Lunar Lander zu trainieren und die policy dann für den kontinuierlichen zu benutzen\n",
    "model,model_name,model_info = model_definitions.standard_ppo_model(env)"
   ],
   "metadata": {
    "collapsed": false,
    "pycharm": {
     "name": "#%%\n"
    }
   }
  },
  {
   "cell_type": "code",
   "execution_count": 7,
   "outputs": [],
   "source": [
    "base_path = \"models/\"+model_name+\"/\"\n",
    "if training_config[\"makedir\"]:\n",
    "    os.makedirs(base_path,exist_ok=True)"
   ],
   "metadata": {
    "collapsed": false,
    "pycharm": {
     "name": "#%%\n"
    }
   }
  },
  {
   "cell_type": "code",
   "execution_count": 8,
   "outputs": [],
   "source": [
    "latest_model_path = base_path+\"latest_model\"\n",
    "if training_config[\"load\"]:\n",
    "    try:\n",
    "        model = type(model).load(latest_model_path)\n",
    "    except:\n",
    "        pass"
   ],
   "metadata": {
    "collapsed": false,
    "pycharm": {
     "name": "#%%\n"
    }
   }
  },
  {
   "cell_type": "code",
   "execution_count": 9,
   "outputs": [],
   "source": [
    "callback = None\n",
    "if training_config[\"eval\"]:\n",
    "    best_model_path = None\n",
    "    if training_config[\"save_best\"]:\n",
    "        best_model_path = base_path+\"best_model\"\n",
    "    callback = EvalCallback(best_model_save_path=best_model_path,eval_env = gym.make(env_id))"
   ],
   "metadata": {
    "collapsed": false,
    "pycharm": {
     "name": "#%%\n"
    }
   }
  },
  {
   "cell_type": "code",
   "execution_count": 10,
   "outputs": [
    {
     "name": "stderr",
     "output_type": "stream",
     "text": [
      "C:\\Users\\Denis\\Documents\\ml\\april___tpg\\venv\\lib\\site-packages\\stable_baselines3\\common\\evaluation.py:65: UserWarning: Evaluation environment is not wrapped with a ``Monitor`` wrapper. This may result in reporting modified episode lengths and rewards, if other wrappers happen to modify these. Consider wrapping environment first with ``Monitor`` wrapper.\n",
      "  warnings.warn(\n"
     ]
    },
    {
     "name": "stdout",
     "output_type": "stream",
     "text": [
      "Eval num_timesteps=10000, episode_reward=-190.27 +/- 90.26\n",
      "Episode length: 306.80 +/- 347.02\n",
      "New best mean reward!\n",
      "Eval num_timesteps=20000, episode_reward=-222.60 +/- 68.07\n",
      "Episode length: 145.40 +/- 46.42\n",
      "Eval num_timesteps=30000, episode_reward=-172.90 +/- 61.96\n",
      "Episode length: 184.40 +/- 26.78\n",
      "New best mean reward!\n",
      "Eval num_timesteps=40000, episode_reward=-137.09 +/- 20.55\n",
      "Episode length: 405.80 +/- 202.09\n",
      "New best mean reward!\n",
      "Eval num_timesteps=50000, episode_reward=-1.56 +/- 157.24\n",
      "Episode length: 466.20 +/- 160.99\n",
      "New best mean reward!\n",
      "Eval num_timesteps=60000, episode_reward=93.44 +/- 88.10\n",
      "Episode length: 788.40 +/- 123.02\n",
      "New best mean reward!\n",
      "Eval num_timesteps=70000, episode_reward=165.65 +/- 18.43\n",
      "Episode length: 852.20 +/- 78.01\n",
      "New best mean reward!\n",
      "Eval num_timesteps=80000, episode_reward=-6.70 +/- 112.93\n",
      "Episode length: 892.00 +/- 132.66\n",
      "Eval num_timesteps=90000, episode_reward=62.14 +/- 112.40\n",
      "Episode length: 851.60 +/- 137.17\n",
      "Eval num_timesteps=100000, episode_reward=178.91 +/- 18.71\n",
      "Episode length: 657.60 +/- 117.59\n",
      "New best mean reward!\n"
     ]
    },
    {
     "data": {
      "text/plain": "<stable_baselines3.ppo.ppo.PPO at 0x27e83e18790>"
     },
     "execution_count": 10,
     "metadata": {},
     "output_type": "execute_result"
    }
   ],
   "source": [
    "model.learn(training_config[\"n_steps\"],callback=callback)"
   ],
   "metadata": {
    "collapsed": false,
    "pycharm": {
     "name": "#%%\n"
    }
   }
  },
  {
   "cell_type": "code",
   "execution_count": 12,
   "outputs": [],
   "source": [
    "if training_config[\"store\"]:\n",
    "    model.save(latest_model_path)"
   ],
   "metadata": {
    "collapsed": false,
    "pycharm": {
     "name": "#%%\n"
    }
   }
  },
  {
   "cell_type": "code",
   "execution_count": null,
   "outputs": [],
   "source": [
    "#weitere Sachen, die man implementieren könnte:\n",
    "#-Reproduzierbarkeit (damit sich die Umgebung für verschiedene Algorithmen gleich\n",
    "#verhält, also zb seed für env setzen)\n",
    "#-gpu nutzen / prüfen, ob genutzt wird\n",
    "#-lernkurve grafisch plotten\n",
    "#-automatisches suchen nach Hyperparametern/grid search\n",
    "# in dem Fall würden die Hyperparameter-Möglichkeiten in\n",
    "# der model_definitions Datei stehen\n",
    "#-Möglichkeit, für feste Zeit statt für Schrittzahl zu\n",
    "# trainieren\n",
    "#-Möglickeit, für feste Episodenzahl zu trainieren\n",
    "#-parallelisiert / vectorized env\n",
    "#-maximale Episodenlönge\n",
    "#-mehr Informationen loggen\n",
    "#etc"
   ],
   "metadata": {
    "collapsed": false,
    "pycharm": {
     "name": "#%%\n"
    }
   }
  }
 ],
 "metadata": {
  "kernelspec": {
   "display_name": "Python 3",
   "language": "python",
   "name": "python3"
  },
  "language_info": {
   "codemirror_mode": {
    "name": "ipython",
    "version": 2
   },
   "file_extension": ".py",
   "mimetype": "text/x-python",
   "name": "python",
   "nbconvert_exporter": "python",
   "pygments_lexer": "ipython2",
   "version": "2.7.6"
  }
 },
 "nbformat": 4,
 "nbformat_minor": 0
}